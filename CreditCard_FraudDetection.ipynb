{
 "cells": [
  {
   "cell_type": "markdown",
   "metadata": {},
   "source": [
    "### Classification on Imbalanced Data using Sampling Techniques : Credit Card Fraud Detection"
   ]
  },
  {
   "cell_type": "markdown",
   "metadata": {},
   "source": [
    "This project is based on the Credit Card Fraud detection from Kaggle[https://www.kaggle.com/mlg-ulb/creditcardfraud]. The main objective of this project is to assess how imbalanced data leads to overfitting and how we can resolve the issue using undersampling and oversampling techniques."
   ]
  },
  {
   "cell_type": "markdown",
   "metadata": {},
   "source": [
    "### Dataset \n",
    "\n",
    "The datasets contains transactions made by credit cards in September 2013 by european cardholders. This dataset presents transactions that occurred in two days, where we have 492 frauds out of 284,807 transactions. The dataset is highly unbalanced, the positive class (frauds) account for 0.172% of all transactions.\n",
    "\n",
    "It contains only numerical input variables which are the result of a PCA transformation. Features V1, V2, ... V28 are the principal components obtained with PCA, the only features which have not been transformed with PCA are 'Time' and 'Amount'. Feature 'Time' contains the seconds elapsed between each transaction and the first transaction in the dataset. The feature 'Amount' is the transaction Amount, this feature can be used for example-dependant cost-senstive learning. Feature 'Class' is the response variable and it takes value 1 in case of fraud and 0 otherwise.\n",
    "\n",
    "Source:https://www.kaggle.com/mlg-ulb/creditcardfraud"
   ]
  },
  {
   "cell_type": "markdown",
   "metadata": {},
   "source": [
    "#### I have used the following models for comparison:\n",
    "\n",
    "    - Logistic Regression Classifier\n",
    "    - Suppot Vector Classifer\n",
    "    - K Neighbors Classifier\n",
    "    - Decision Tree Classifier\n",
    "    - XGBoost Classifier\n",
    "    - Artificial Neural Network"
   ]
  },
  {
   "cell_type": "markdown",
   "metadata": {},
   "source": [
    "##### Steps involved are as follows:\n",
    "    \n",
    "   1. Importing all the required libraries\n",
    "   2. Creating helper functions: simple_fit_predict, best_estimator, precision-recall_curve, roc_curve. \n",
    "      (For ease of following, I have kept all the helper functions in the same notebook compared to moving them into separate .py files)\n",
    "   3. Loading the dataset and performing data exploration\n",
    "   4. Data preprocessing on continuous as well as categorical fields\n",
    "   5. Splitting into training/testing set\n",
    "   6. Applying simple_fit_predict to see how imbalanced data performs\n",
    "   7. Apply subsampling techniques\n",
    "   8. Hyper parameter tuning on the subsampled data to find optimized estimators\n",
    "   9. Evaluating results using Precision-Recall and ROC curves\n",
    "   10. Print Classification report\n",
    "   11. Apply Oversampling using SMOTE technique\n",
    "   12. Repeat steps 9-10 for Oversampling\n",
    "   13. Perform the similar analysis using Subsampling and Oversampling on Aritificial Neural Network (ANN)\n",
    "   14. Analyzing Overall Results"
   ]
  },
  {
   "cell_type": "markdown",
   "metadata": {},
   "source": [
    "### Importing Libraries"
   ]
  },
  {
   "cell_type": "code",
   "execution_count": 1,
   "metadata": {
    "_uuid": "177f9a0f0a78895d4dafb3bcb4eaad3d056f42f1",
    "scrolled": false
   },
   "outputs": [],
   "source": [
    "import pandas as pd\n",
    "import numpy as np\n",
    "\n",
    "# Classifiers\n",
    "from sklearn.linear_model import LogisticRegression\n",
    "from sklearn.svm import SVC\n",
    "from sklearn.neighbors import KNeighborsClassifier\n",
    "from sklearn.tree import DecisionTreeClassifier\n",
    "from xgboost import XGBClassifier\n",
    "\n",
    "# Data Preprocessing\n",
    "from sklearn.preprocessing import StandardScaler\n",
    "from sklearn.model_selection import train_test_split\n",
    "\n",
    "# Metrics\n",
    "from sklearn.model_selection import cross_val_score, GridSearchCV, cross_val_predict, cross_validate, ShuffleSplit, RandomizedSearchCV, learning_curve\n",
    "from sklearn.metrics import roc_auc_score, roc_curve, auc, confusion_matrix, f1_score, accuracy_score, precision_score, recall_score, classification_report, make_scorer, fbeta_score\n",
    "\n",
    "# Visualization\n",
    "import matplotlib.pyplot as plt\n",
    "import seaborn as sns\n",
    "from matplotlib.pyplot import cm\n",
    "\n",
    "from funcsigs import signature\n",
    "from sklearn.metrics import precision_recall_curve\n",
    "from sklearn.metrics import average_precision_score\n",
    "\n",
    "import warnings\n",
    "warnings.filterwarnings('ignore')\n"
   ]
  },
  {
   "cell_type": "code",
   "execution_count": 2,
   "metadata": {
    "_uuid": "5cda13f26e58bbe1916fddb0f86785c38245c9c2"
   },
   "outputs": [],
   "source": [
    "# Reading the dataset\n",
    "dataset = pd.read_csv('D:\\Manju - CS\\Credit_Card_Fraud\\creditcard.csv\\creditcard.csv')"
   ]
  },
  {
   "cell_type": "markdown",
   "metadata": {
    "_uuid": "6d42482a8cae6eb8fabbd15ef486aee4ed88f22d"
   },
   "source": [
    "### Data Exploration\n"
   ]
  },
  {
   "cell_type": "code",
   "execution_count": 3,
   "metadata": {
    "_uuid": "d3d639518c2b379deaf1a71a9cd0558dfb9b71f2"
   },
   "outputs": [
    {
     "name": "stdout",
     "output_type": "stream",
     "text": [
      "   Time        V1        V2        V3        V4        V5        V6        V7  \\\n",
      "0   0.0 -1.359807 -0.072781  2.536347  1.378155 -0.338321  0.462388  0.239599   \n",
      "1   0.0  1.191857  0.266151  0.166480  0.448154  0.060018 -0.082361 -0.078803   \n",
      "2   1.0 -1.358354 -1.340163  1.773209  0.379780 -0.503198  1.800499  0.791461   \n",
      "3   1.0 -0.966272 -0.185226  1.792993 -0.863291 -0.010309  1.247203  0.237609   \n",
      "4   2.0 -1.158233  0.877737  1.548718  0.403034 -0.407193  0.095921  0.592941   \n",
      "\n",
      "         V8        V9  ...       V21       V22       V23       V24       V25  \\\n",
      "0  0.098698  0.363787  ... -0.018307  0.277838 -0.110474  0.066928  0.128539   \n",
      "1  0.085102 -0.255425  ... -0.225775 -0.638672  0.101288 -0.339846  0.167170   \n",
      "2  0.247676 -1.514654  ...  0.247998  0.771679  0.909412 -0.689281 -0.327642   \n",
      "3  0.377436 -1.387024  ... -0.108300  0.005274 -0.190321 -1.175575  0.647376   \n",
      "4 -0.270533  0.817739  ... -0.009431  0.798278 -0.137458  0.141267 -0.206010   \n",
      "\n",
      "        V26       V27       V28  Amount  Class  \n",
      "0 -0.189115  0.133558 -0.021053  149.62      0  \n",
      "1  0.125895 -0.008983  0.014724    2.69      0  \n",
      "2 -0.139097 -0.055353 -0.059752  378.66      0  \n",
      "3 -0.221929  0.062723  0.061458  123.50      0  \n",
      "4  0.502292  0.219422  0.215153   69.99      0  \n",
      "\n",
      "[5 rows x 31 columns]\n"
     ]
    }
   ],
   "source": [
    "print(dataset.head()) # All columns"
   ]
  },
  {
   "cell_type": "code",
   "execution_count": 4,
   "metadata": {
    "_uuid": "ab6b0c3b351509c860167eccfbd2741ee7bf4ba4"
   },
   "outputs": [
    {
     "name": "stdout",
     "output_type": "stream",
     "text": [
      "                Time            V1            V2            V3            V4  \\\n",
      "count  284807.000000  2.848070e+05  2.848070e+05  2.848070e+05  2.848070e+05   \n",
      "mean    94813.859575  3.919560e-15  5.688174e-16 -8.769071e-15  2.782312e-15   \n",
      "std     47488.145955  1.958696e+00  1.651309e+00  1.516255e+00  1.415869e+00   \n",
      "min         0.000000 -5.640751e+01 -7.271573e+01 -4.832559e+01 -5.683171e+00   \n",
      "25%     54201.500000 -9.203734e-01 -5.985499e-01 -8.903648e-01 -8.486401e-01   \n",
      "50%     84692.000000  1.810880e-02  6.548556e-02  1.798463e-01 -1.984653e-02   \n",
      "75%    139320.500000  1.315642e+00  8.037239e-01  1.027196e+00  7.433413e-01   \n",
      "max    172792.000000  2.454930e+00  2.205773e+01  9.382558e+00  1.687534e+01   \n",
      "\n",
      "                 V5            V6            V7            V8            V9  \\\n",
      "count  2.848070e+05  2.848070e+05  2.848070e+05  2.848070e+05  2.848070e+05   \n",
      "mean  -1.552563e-15  2.010663e-15 -1.694249e-15 -1.927028e-16 -3.137024e-15   \n",
      "std    1.380247e+00  1.332271e+00  1.237094e+00  1.194353e+00  1.098632e+00   \n",
      "min   -1.137433e+02 -2.616051e+01 -4.355724e+01 -7.321672e+01 -1.343407e+01   \n",
      "25%   -6.915971e-01 -7.682956e-01 -5.540759e-01 -2.086297e-01 -6.430976e-01   \n",
      "50%   -5.433583e-02 -2.741871e-01  4.010308e-02  2.235804e-02 -5.142873e-02   \n",
      "75%    6.119264e-01  3.985649e-01  5.704361e-01  3.273459e-01  5.971390e-01   \n",
      "max    3.480167e+01  7.330163e+01  1.205895e+02  2.000721e+01  1.559499e+01   \n",
      "\n",
      "       ...           V21           V22           V23           V24  \\\n",
      "count  ...  2.848070e+05  2.848070e+05  2.848070e+05  2.848070e+05   \n",
      "mean   ...  1.537294e-16  7.959909e-16  5.367590e-16  4.458112e-15   \n",
      "std    ...  7.345240e-01  7.257016e-01  6.244603e-01  6.056471e-01   \n",
      "min    ... -3.483038e+01 -1.093314e+01 -4.480774e+01 -2.836627e+00   \n",
      "25%    ... -2.283949e-01 -5.423504e-01 -1.618463e-01 -3.545861e-01   \n",
      "50%    ... -2.945017e-02  6.781943e-03 -1.119293e-02  4.097606e-02   \n",
      "75%    ...  1.863772e-01  5.285536e-01  1.476421e-01  4.395266e-01   \n",
      "max    ...  2.720284e+01  1.050309e+01  2.252841e+01  4.584549e+00   \n",
      "\n",
      "                V25           V26           V27           V28         Amount  \\\n",
      "count  2.848070e+05  2.848070e+05  2.848070e+05  2.848070e+05  284807.000000   \n",
      "mean   1.453003e-15  1.699104e-15 -3.660161e-16 -1.206049e-16      88.349619   \n",
      "std    5.212781e-01  4.822270e-01  4.036325e-01  3.300833e-01     250.120109   \n",
      "min   -1.029540e+01 -2.604551e+00 -2.256568e+01 -1.543008e+01       0.000000   \n",
      "25%   -3.171451e-01 -3.269839e-01 -7.083953e-02 -5.295979e-02       5.600000   \n",
      "50%    1.659350e-02 -5.213911e-02  1.342146e-03  1.124383e-02      22.000000   \n",
      "75%    3.507156e-01  2.409522e-01  9.104512e-02  7.827995e-02      77.165000   \n",
      "max    7.519589e+00  3.517346e+00  3.161220e+01  3.384781e+01   25691.160000   \n",
      "\n",
      "               Class  \n",
      "count  284807.000000  \n",
      "mean        0.001727  \n",
      "std         0.041527  \n",
      "min         0.000000  \n",
      "25%         0.000000  \n",
      "50%         0.000000  \n",
      "75%         0.000000  \n",
      "max         1.000000  \n",
      "\n",
      "[8 rows x 31 columns]\n"
     ]
    }
   ],
   "source": [
    "# Displaying the range of values in all columns\n",
    "print(dataset.describe()) "
   ]
  },
  {
   "cell_type": "code",
   "execution_count": 5,
   "metadata": {
    "_uuid": "44bc6c5a4557fd5e6e25e5bfa4e734338e20aa23"
   },
   "outputs": [
    {
     "data": {
      "image/png": "[encoded data removed]",
      "text/plain": [
       "<Figure size 432x288 with 1 Axes>"
      ]
     },
     "metadata": {
      "needs_background": "light"
     },
     "output_type": "display_data"
    }
   ],
   "source": [
    "# Finding the Class distribution\n",
    "sns.countplot(\"Class\", data = dataset )\n",
    "plt.show()"
   ]
  },
  {
   "cell_type": "markdown",
   "metadata": {
    "_uuid": "8e644868ab91c3e97fcf168e97ce466117a9b4e0"
   },
   "source": [
    "The dataset looks like its highly imbalanced. The entries for fraud transactions (Class 1) is minimal compared to authentic transactions (Class 0)."
   ]
  },
  {
   "cell_type": "code",
   "execution_count": 6,
   "metadata": {
    "_uuid": "efa17ec723c463143a80c281d9cb54e8baddcc37"
   },
   "outputs": [
    {
     "data": {
      "text/plain": [
       "0    284315\n",
       "1       492\n",
       "Name: Class, dtype: int64"
      ]
     },
     "execution_count": 6,
     "metadata": {},
     "output_type": "execute_result"
    }
   ],
   "source": [
    "dataset['Class'].value_counts()"
   ]
  },
  {
   "cell_type": "code",
   "execution_count": 7,
   "metadata": {
    "_uuid": "fc447699b1d74a3dff7752776195e3b316e36eb9"
   },
   "outputs": [
    {
     "name": "stdout",
     "output_type": "stream",
     "text": [
      "Percentage of fraud transactions is  0.17 %\n"
     ]
    }
   ],
   "source": [
    "print('Percentage of fraud transactions is ', round(dataset[dataset.Class ==1].count()[0]/len(dataset)*100,2), '%')"
   ]
  },
  {
   "cell_type": "markdown",
   "metadata": {
    "_uuid": "52022b09296c3193c089314d2cc2ced1ecf6945b"
   },
   "source": [
    "##### Since the dataset is highly imbalanced, to avoid overfitting, sampling techniques has to be used.\n",
    "\n",
    "Also, we understand that the column 'Amount' is not scaled. Hence, feature scaling has to be applied before using the data for classification."
   ]
  },
  {
   "cell_type": "markdown",
   "metadata": {
    "_uuid": "aae0828f60c63fff1229f01852a341853c6794c9"
   },
   "source": [
    "### Data Preprocessing"
   ]
  },
  {
   "cell_type": "markdown",
   "metadata": {
    "_uuid": "6cd273daf1837d0f84a0db56d4eae14a5a7f56bc"
   },
   "source": [
    "#### Feature Scaling"
   ]
  },
  {
   "cell_type": "code",
   "execution_count": 8,
   "metadata": {
    "_uuid": "19c581e7426217c0352a02c1a62cbdc7631daee4"
   },
   "outputs": [],
   "source": [
    "# Applying StandardScaler\n",
    "dataset['ScaledAmount']=StandardScaler().fit_transform(dataset['Amount'].values.reshape(-1,1))\n",
    "dataset=dataset.drop(['Amount','Time'], axis=1) "
   ]
  },
  {
   "cell_type": "code",
   "execution_count": 9,
   "metadata": {
    "_uuid": "9b40920a5a0842948ac8df0cd082ba2c19ed4b1c"
   },
   "outputs": [
    {
     "data": {
      "text/html": [
       "<div>\n",
       "<style scoped>\n",
       "    .dataframe tbody tr th:only-of-type {\n",
       "        vertical-align: middle;\n",
       "    }\n",
       "\n",
       "    .dataframe tbody tr th {\n",
       "        vertical-align: top;\n",
       "    }\n",
       "\n",
       "    .dataframe thead th {\n",
       "        text-align: right;\n",
       "    }\n",
       "</style>\n",
       "<table border=\"1\" class=\"dataframe\">\n",
       "  <thead>\n",
       "    <tr style=\"text-align: right;\">\n",
       "      <th></th>\n",
       "      <th>V1</th>\n",
       "      <th>V2</th>\n",
       "      <th>V3</th>\n",
       "      <th>V4</th>\n",
       "      <th>V5</th>\n",
       "      <th>V6</th>\n",
       "      <th>V7</th>\n",
       "      <th>V8</th>\n",
       "      <th>V9</th>\n",
       "      <th>V10</th>\n",
       "      <th>...</th>\n",
       "      <th>V21</th>\n",
       "      <th>V22</th>\n",
       "      <th>V23</th>\n",
       "      <th>V24</th>\n",
       "      <th>V25</th>\n",
       "      <th>V26</th>\n",
       "      <th>V27</th>\n",
       "      <th>V28</th>\n",
       "      <th>Class</th>\n",
       "      <th>ScaledAmount</th>\n",
       "    </tr>\n",
       "  </thead>\n",
       "  <tbody>\n",
       "    <tr>\n",
       "      <th>0</th>\n",
       "      <td>-1.359807</td>\n",
       "      <td>-0.072781</td>\n",
       "      <td>2.536347</td>\n",
       "      <td>1.378155</td>\n",
       "      <td>-0.338321</td>\n",
       "      <td>0.462388</td>\n",
       "      <td>0.239599</td>\n",
       "      <td>0.098698</td>\n",
       "      <td>0.363787</td>\n",
       "      <td>0.090794</td>\n",
       "      <td>...</td>\n",
       "      <td>-0.018307</td>\n",
       "      <td>0.277838</td>\n",
       "      <td>-0.110474</td>\n",
       "      <td>0.066928</td>\n",
       "      <td>0.128539</td>\n",
       "      <td>-0.189115</td>\n",
       "      <td>0.133558</td>\n",
       "      <td>-0.021053</td>\n",
       "      <td>0</td>\n",
       "      <td>0.244964</td>\n",
       "    </tr>\n",
       "    <tr>\n",
       "      <th>1</th>\n",
       "      <td>1.191857</td>\n",
       "      <td>0.266151</td>\n",
       "      <td>0.166480</td>\n",
       "      <td>0.448154</td>\n",
       "      <td>0.060018</td>\n",
       "      <td>-0.082361</td>\n",
       "      <td>-0.078803</td>\n",
       "      <td>0.085102</td>\n",
       "      <td>-0.255425</td>\n",
       "      <td>-0.166974</td>\n",
       "      <td>...</td>\n",
       "      <td>-0.225775</td>\n",
       "      <td>-0.638672</td>\n",
       "      <td>0.101288</td>\n",
       "      <td>-0.339846</td>\n",
       "      <td>0.167170</td>\n",
       "      <td>0.125895</td>\n",
       "      <td>-0.008983</td>\n",
       "      <td>0.014724</td>\n",
       "      <td>0</td>\n",
       "      <td>-0.342475</td>\n",
       "    </tr>\n",
       "    <tr>\n",
       "      <th>2</th>\n",
       "      <td>-1.358354</td>\n",
       "      <td>-1.340163</td>\n",
       "      <td>1.773209</td>\n",
       "      <td>0.379780</td>\n",
       "      <td>-0.503198</td>\n",
       "      <td>1.800499</td>\n",
       "      <td>0.791461</td>\n",
       "      <td>0.247676</td>\n",
       "      <td>-1.514654</td>\n",
       "      <td>0.207643</td>\n",
       "      <td>...</td>\n",
       "      <td>0.247998</td>\n",
       "      <td>0.771679</td>\n",
       "      <td>0.909412</td>\n",
       "      <td>-0.689281</td>\n",
       "      <td>-0.327642</td>\n",
       "      <td>-0.139097</td>\n",
       "      <td>-0.055353</td>\n",
       "      <td>-0.059752</td>\n",
       "      <td>0</td>\n",
       "      <td>1.160686</td>\n",
       "    </tr>\n",
       "    <tr>\n",
       "      <th>3</th>\n",
       "      <td>-0.966272</td>\n",
       "      <td>-0.185226</td>\n",
       "      <td>1.792993</td>\n",
       "      <td>-0.863291</td>\n",
       "      <td>-0.010309</td>\n",
       "      <td>1.247203</td>\n",
       "      <td>0.237609</td>\n",
       "      <td>0.377436</td>\n",
       "      <td>-1.387024</td>\n",
       "      <td>-0.054952</td>\n",
       "      <td>...</td>\n",
       "      <td>-0.108300</td>\n",
       "      <td>0.005274</td>\n",
       "      <td>-0.190321</td>\n",
       "      <td>-1.175575</td>\n",
       "      <td>0.647376</td>\n",
       "      <td>-0.221929</td>\n",
       "      <td>0.062723</td>\n",
       "      <td>0.061458</td>\n",
       "      <td>0</td>\n",
       "      <td>0.140534</td>\n",
       "    </tr>\n",
       "    <tr>\n",
       "      <th>4</th>\n",
       "      <td>-1.158233</td>\n",
       "      <td>0.877737</td>\n",
       "      <td>1.548718</td>\n",
       "      <td>0.403034</td>\n",
       "      <td>-0.407193</td>\n",
       "      <td>0.095921</td>\n",
       "      <td>0.592941</td>\n",
       "      <td>-0.270533</td>\n",
       "      <td>0.817739</td>\n",
       "      <td>0.753074</td>\n",
       "      <td>...</td>\n",
       "      <td>-0.009431</td>\n",
       "      <td>0.798278</td>\n",
       "      <td>-0.137458</td>\n",
       "      <td>0.141267</td>\n",
       "      <td>-0.206010</td>\n",
       "      <td>0.502292</td>\n",
       "      <td>0.219422</td>\n",
       "      <td>0.215153</td>\n",
       "      <td>0</td>\n",
       "      <td>-0.073403</td>\n",
       "    </tr>\n",
       "  </tbody>\n",
       "</table>\n",
       "<p>5 rows × 30 columns</p>\n",
       "</div>"
      ],
      "text/plain": [
       "         V1        V2        V3        V4        V5        V6        V7  \\\n",
       "0 -1.359807 -0.072781  2.536347  1.378155 -0.338321  0.462388  0.239599   \n",
       "1  1.191857  0.266151  0.166480  0.448154  0.060018 -0.082361 -0.078803   \n",
       "2 -1.358354 -1.340163  1.773209  0.379780 -0.503198  1.800499  0.791461   \n",
       "3 -0.966272 -0.185226  1.792993 -0.863291 -0.010309  1.247203  0.237609   \n",
       "4 -1.158233  0.877737  1.548718  0.403034 -0.407193  0.095921  0.592941   \n",
       "\n",
       "         V8        V9       V10  ...       V21       V22       V23       V24  \\\n",
       "0  0.098698  0.363787  0.090794  ... -0.018307  0.277838 -0.110474  0.066928   \n",
       "1  0.085102 -0.255425 -0.166974  ... -0.225775 -0.638672  0.101288 -0.339846   \n",
       "2  0.247676 -1.514654  0.207643  ...  0.247998  0.771679  0.909412 -0.689281   \n",
       "3  0.377436 -1.387024 -0.054952  ... -0.108300  0.005274 -0.190321 -1.175575   \n",
       "4 -0.270533  0.817739  0.753074  ... -0.009431  0.798278 -0.137458  0.141267   \n",
       "\n",
       "        V25       V26       V27       V28  Class  ScaledAmount  \n",
       "0  0.128539 -0.189115  0.133558 -0.021053      0      0.244964  \n",
       "1  0.167170  0.125895 -0.008983  0.014724      0     -0.342475  \n",
       "2 -0.327642 -0.139097 -0.055353 -0.059752      0      1.160686  \n",
       "3  0.647376 -0.221929  0.062723  0.061458      0      0.140534  \n",
       "4 -0.206010  0.502292  0.219422  0.215153      0     -0.073403  \n",
       "\n",
       "[5 rows x 30 columns]"
      ]
     },
     "execution_count": 9,
     "metadata": {},
     "output_type": "execute_result"
    }
   ],
   "source": [
    "dataset.head()"
   ]
  },
  {
   "cell_type": "code",
   "execution_count": 10,
   "metadata": {
    "_uuid": "cc2fb8183cc308d8eadc9ab1575d9b33e17ab0e5"
   },
   "outputs": [],
   "source": [
    "# Splitting original data set into independant and dependent variables\n",
    "X_org = dataset.iloc[:,dataset.columns!='Class']\n",
    "y_org = dataset.iloc[:,dataset.columns == 'Class']"
   ]
  },
  {
   "cell_type": "markdown",
   "metadata": {
    "_uuid": "dc03b196cf3117ed061a4d69c5f3eb076b1fa02e"
   },
   "source": [
    "#### Splitting Original Dataset into training and testing set"
   ]
  },
  {
   "cell_type": "code",
   "execution_count": 11,
   "metadata": {
    "_uuid": "007dba8179b2a50f1f57a0966e5b54235d7dc341"
   },
   "outputs": [],
   "source": [
    "X_train_org, X_test_org, y_train_org, y_test_org = train_test_split(X_org, y_org, test_size = 0.25, random_state=123, stratify = y_org)\n"
   ]
  },
  {
   "cell_type": "code",
   "execution_count": 12,
   "metadata": {
    "_uuid": "6167b336611ea968f73720c9262ebb8c4db396c3"
   },
   "outputs": [
    {
     "name": "stdout",
     "output_type": "stream",
     "text": [
      "Train data shape: (213605, 1)\n",
      "Test data shape: (71202, 1)\n"
     ]
    }
   ],
   "source": [
    "print(\"Train data shape:\",y_train_org.shape)\n",
    "print(\"Test data shape:\",y_test_org.shape)"
   ]
  },
  {
   "cell_type": "markdown",
   "metadata": {
    "_uuid": "71b6d9de3832dd047fa431cca70439a98e6128f9"
   },
   "source": [
    "### Fitting Classification model to the Original Dataset"
   ]
  },
  {
   "cell_type": "code",
   "execution_count": 13,
   "metadata": {
    "_uuid": "c41cad9a9158a7145406ba182c4c86fc54afb187"
   },
   "outputs": [],
   "source": [
    "# Creating a list of dictionaries for all Classifiers used and its  parameters\n",
    "classifiers = [\n",
    "{\n",
    "    'label': 'Logistic Regression Classifier',\n",
    "    'model': LogisticRegression(),\n",
    "    'parameters': {\"penalty\": ['l1', 'l2'], 'C': [0.01, 0.1, 0.5, 1, 10]},\n",
    "    'r_cv':5,\n",
    "    'g_cv' : 10,\n",
    "    'n_iter':10\n",
    "    \n",
    "},\n",
    "{\n",
    "    'label': 'Support Vector Classifier',\n",
    "    'model': SVC(),\n",
    "    'parameters': {'C': [0.5, 0.7, 0.9, 1], 'kernel': ['rbf', 'poly', 'sigmoid', 'linear']},\n",
    "    'r_cv':3,\n",
    "    'g_cv' : 10,\n",
    "    'n_iter': 5\n",
    "},\n",
    "{\n",
    "    'label': 'K-Nearest Neighbor',\n",
    "    'model': KNeighborsClassifier(),\n",
    "    'parameters':{\"n_neighbors\": list(range(2,5,1)), 'algorithm': ['auto', 'ball_tree', 'kd_tree', 'brute']},\n",
    "    'r_cv':3,\n",
    "    'g_cv' : 10,\n",
    "    'n_iter': 5\n",
    "},\n",
    "{\n",
    "    'label': 'Decision Tree Classifier',\n",
    "    'model': DecisionTreeClassifier(),\n",
    "    'parameters': {\"criterion\": [\"gini\", \"entropy\"], \"max_depth\": list(range(2,4,1)), \n",
    "              \"min_samples_leaf\": list(range(5,7,1))},\n",
    "    'r_cv':3,\n",
    "    'g_cv' : 10,\n",
    "    'n_iter': 5\n",
    "    \n",
    "},\n",
    "{\n",
    "    'label': 'XGBoost Classifier',\n",
    "    'model': XGBClassifier(),\n",
    "    'parameters': { 'learning_rate': [0.01], 'n_estimators':[100,500],\n",
    "                   'gamma': [0.5, 1, 1.5], 'subsample': [0.6, 0.8, 1.0], \n",
    "                   'colsample_bytree': [0.6, 0.8, 1.0], 'max_depth': [2]},\n",
    "    'r_cv':3,\n",
    "    'g_cv' : 2,\n",
    "    'n_iter': 5\n",
    "    \n",
    "}\n",
    "       \n",
    "]"
   ]
  },
  {
   "cell_type": "code",
   "execution_count": 14,
   "metadata": {
    "_uuid": "c3279192149b45374841913e79aaac64b3fe8405"
   },
   "outputs": [],
   "source": [
    "def simple_fit_predict(classifiers, X_train, X_test, y_train, y_test):\n",
    "    \"\"\"Simple fit-predict to show over-fitting on original data\n",
    "    \n",
    "    Arguments:\n",
    "    \n",
    "    classifiers: list of Dictionary of classifiers\n",
    "    X_train: Training set X values\n",
    "    X_test: Test set X values\n",
    "    y_train: Training set y values\n",
    "    y_test: Test set y_values\n",
    "    \n",
    "    Returns:\n",
    "    \n",
    "    estimators: Dictionary of model estimator objects\n",
    "    \n",
    "    \"\"\"\n",
    "    print('Validation Scores:\\n')\n",
    "    estimators = dict()\n",
    "    for c in classifiers:\n",
    "        classifier = c['model']\n",
    "        label = c['label']\n",
    "        classifier.fit(X_train, y_train)\n",
    "        train_predictions = classifier.predict(X_train)\n",
    "        test_predictions = classifier.predict(X_test)\n",
    "        estimators[label] = classifier\n",
    "        \n",
    "        print(label, 'scores')\n",
    "        print('\\n')\n",
    "        print('Precision:')\n",
    "        print('Training score: ',round(precision_score(train_predictions,y_train)*100,2),'%', '\\t Testing score: ',  round(precision_score(test_predictions,y_test)*100,2),'%')\n",
    "        print('Recall:')\n",
    "        print('Training score: ',round(recall_score(train_predictions,y_train)*100,2),'%', '\\t Testing score: ',  round(recall_score(test_predictions,y_test)*100,2),'%')\n",
    "        print('F1 Score:')\n",
    "        print('Training score: ',round(f1_score(train_predictions,y_train)*100,2),'%', '\\t Testing score: ',  round(f1_score(test_predictions,y_test)*100,2),'%')\n",
    "        print('Accuracy:')\n",
    "        print('Training score: ',round(accuracy_score(train_predictions,y_train)*100,2),'%', '\\t Testing score: ',  round(accuracy_score(test_predictions,y_test)*100,2),'%')\n",
    "        print('==========================================')\n",
    "        print('\\n')\n",
    "    return estimators\n",
    "    "
   ]
  },
  {
   "cell_type": "markdown",
   "metadata": {
    "_uuid": "2fa80d556df42177bcda8c969801e7f82338276f"
   },
   "source": [
    "### Validation to see if there is Overfitting"
   ]
  },
  {
   "cell_type": "code",
   "execution_count": 15,
   "metadata": {
    "_uuid": "04920f2a3164f91983c9088a857112ab0b9978eb"
   },
   "outputs": [
    {
     "name": "stdout",
     "output_type": "stream",
     "text": [
      "Validation Scores:\n",
      "\n",
      "Logistic Regression Classifier scores\n",
      "\n",
      "\n",
      "Precision:\n",
      "Training score:  63.69 % \t Testing score:  58.54 %\n",
      "Recall:\n",
      "Training score:  88.68 % \t Testing score:  86.75 %\n",
      "F1 Score:\n",
      "Training score:  74.13 % \t Testing score:  69.9 %\n",
      "Accuracy:\n",
      "Training score:  99.92 % \t Testing score:  99.91 %\n",
      "==========================================\n",
      "\n",
      "\n",
      "Support Vector Classifier scores\n",
      "\n",
      "\n",
      "Precision:\n",
      "Training score:  82.38 % \t Testing score:  61.79 %\n",
      "Recall:\n",
      "Training score:  97.75 % \t Testing score:  93.83 %\n",
      "F1 Score:\n",
      "Training score:  89.41 % \t Testing score:  74.51 %\n",
      "Accuracy:\n",
      "Training score:  99.97 % \t Testing score:  99.93 %\n",
      "==========================================\n",
      "\n",
      "\n",
      "K-Nearest Neighbor scores\n",
      "\n",
      "\n",
      "Precision:\n",
      "Training score:  81.03 % \t Testing score:  72.36 %\n",
      "Recall:\n",
      "Training score:  95.53 % \t Testing score:  91.75 %\n",
      "F1 Score:\n",
      "Training score:  87.68 % \t Testing score:  80.91 %\n",
      "Accuracy:\n",
      "Training score:  99.96 % \t Testing score:  99.94 %\n",
      "==========================================\n",
      "\n",
      "\n",
      "Decision Tree Classifier scores\n",
      "\n",
      "\n",
      "Precision:\n",
      "Training score:  100.0 % \t Testing score:  72.36 %\n",
      "Recall:\n",
      "Training score:  100.0 % \t Testing score:  74.79 %\n",
      "F1 Score:\n",
      "Training score:  100.0 % \t Testing score:  73.55 %\n",
      "Accuracy:\n",
      "Training score:  100.0 % \t Testing score:  99.91 %\n",
      "==========================================\n",
      "\n",
      "\n",
      "XGBoost Classifier scores\n",
      "\n",
      "\n",
      "Precision:\n",
      "Training score:  85.09 % \t Testing score:  73.17 %\n",
      "Recall:\n",
      "Training score:  96.62 % \t Testing score:  90.0 %\n",
      "F1 Score:\n",
      "Training score:  90.49 % \t Testing score:  80.72 %\n",
      "Accuracy:\n",
      "Training score:  99.97 % \t Testing score:  99.94 %\n",
      "==========================================\n",
      "\n",
      "\n"
     ]
    }
   ],
   "source": [
    "initial_estimator = simple_fit_predict(classifiers, X_train_org, X_test_org, y_train_org, y_test_org)"
   ]
  },
  {
   "cell_type": "markdown",
   "metadata": {
    "_uuid": "85977a5fc078fef02a3a3f3a1b77be8e10aa0b7f"
   },
   "source": [
    "#### Analysis of Results on the Original data"
   ]
  },
  {
   "cell_type": "markdown",
   "metadata": {
    "_uuid": "75d8f30bacfbe0131c62a5a06d69f50d01a6897d"
   },
   "source": [
    "1. Logisitc Regression: Clear case of overfitting, especially in an imbalanced dataset. Eventhough accuracy is really high, precision is lower and there is a large gap between training and testing scores. \n",
    "2.  Support Vector: Higher accuracy than logistic regression, but precision fails miserably on testing. Clear case of overfitting\n",
    "3. KNN: Except accuracy, testing scores as lesser compared to training\n",
    "4. Decision Tree: Except accuracy, every other score fell by ~25%\n",
    "5. XGBoost: Similar case, precision, Recall and F1 score fell by 6-12%"
   ]
  },
  {
   "cell_type": "markdown",
   "metadata": {
    "_uuid": "a904d1f954d8f4c736ba9bc9af29d7666e07be06"
   },
   "source": [
    "## Sub Sampling Techniques"
   ]
  },
  {
   "cell_type": "markdown",
   "metadata": {
    "_uuid": "b8d3c7381e2957905615a09f652f0ef57875ffa0"
   },
   "source": [
    "### UnderSampling"
   ]
  },
  {
   "cell_type": "markdown",
   "metadata": {
    "_uuid": "4cb63f42b2bdab1374d7ade087730893f4b1b861"
   },
   "source": [
    "For undersampling, we will choose equal number of samples from each class. Hence a random sample of 492 Class 0 (non-fraud) will be chosen along with the 492 fraud rows to make the undersampled dataset."
   ]
  },
  {
   "cell_type": "code",
   "execution_count": 16,
   "metadata": {
    "_uuid": "7a306171816479378c69f1afa0d25d0a05b21b5e"
   },
   "outputs": [],
   "source": [
    "# Saving class-specific indices\n",
    "class_0_indices = np.array(dataset[dataset['Class']==0].index)\n",
    "class_1_indices = np.array(dataset[dataset['Class']==1].index)"
   ]
  },
  {
   "cell_type": "code",
   "execution_count": 17,
   "metadata": {
    "_uuid": "93d7cf816337bd201bfbecf89b63219f0eec1b4b"
   },
   "outputs": [],
   "source": [
    "# Choosing class 0 indices randomly to make it equal to class 1\n",
    "random_class_0_indices = np.random.choice(a = class_0_indices, \n",
    "                                          size = dataset[dataset['Class']==1].count()[0],\n",
    "                                        replace = False)"
   ]
  },
  {
   "cell_type": "code",
   "execution_count": 18,
   "metadata": {
    "_uuid": "5f3fb89ac10815e16e18ebdbe629477ebb16dc4d"
   },
   "outputs": [
    {
     "name": "stdout",
     "output_type": "stream",
     "text": [
      "492\n"
     ]
    }
   ],
   "source": [
    "print(len(random_class_0_indices))"
   ]
  },
  {
   "cell_type": "code",
   "execution_count": 19,
   "metadata": {
    "_uuid": "221bfb683afcde13412a56ca23ab8f9dbf0633e7"
   },
   "outputs": [],
   "source": [
    "# New indices of undersampled data\n",
    "undersample_indices = np.concatenate([random_class_0_indices,class_1_indices])"
   ]
  },
  {
   "cell_type": "code",
   "execution_count": 20,
   "metadata": {
    "_uuid": "5c149ec131996e3b99ef4095f74b455f80a62580"
   },
   "outputs": [
    {
     "name": "stdout",
     "output_type": "stream",
     "text": [
      "984\n"
     ]
    }
   ],
   "source": [
    "# Undersampled dataset\n",
    "dataset_us = dataset.iloc[undersample_indices,:]\n",
    "print(len(dataset_us))"
   ]
  },
  {
   "cell_type": "code",
   "execution_count": 21,
   "metadata": {
    "_uuid": "0a68550d523961e59c16899c707ef64004917a8a"
   },
   "outputs": [],
   "source": [
    "# Splitting undersampled dataset into independent and dependent variables\n",
    "X_us = dataset_us.iloc[:,dataset_us.columns!='Class']\n",
    "y_us = dataset_us.iloc[:,dataset_us.columns=='Class']"
   ]
  },
  {
   "cell_type": "code",
   "execution_count": 22,
   "metadata": {},
   "outputs": [],
   "source": [
    "# Converting dataframe to numpy array\n",
    "X_us = np.array(X_us)\n",
    "y_us = np.array(y_us).reshape(y_us.shape[0],)"
   ]
  },
  {
   "cell_type": "markdown",
   "metadata": {
    "_uuid": "256e13596dde8861de052e5797f76e3801603b7a"
   },
   "source": [
    "#### Data-preprocessing on the undersampled data"
   ]
  },
  {
   "cell_type": "code",
   "execution_count": 23,
   "metadata": {
    "_uuid": "c9b77862d2d9e69c77bd001b9e6528b3920e7026"
   },
   "outputs": [
    {
     "name": "stdout",
     "output_type": "stream",
     "text": [
      "(738, 30)\n"
     ]
    }
   ],
   "source": [
    "# Splitting into training and test set\n",
    "X_train_us, X_test_us, y_train_us, y_test_us = train_test_split(X_us, y_us, test_size = 0.25, random_state = 123)\n",
    "a=np.c_[X_train_us,y_train_us].shape\n",
    "print(a)"
   ]
  },
  {
   "cell_type": "markdown",
   "metadata": {
    "_uuid": "bbe0034ec9f19db4f56399c5f101f4f1a6bf43ab"
   },
   "source": [
    "#### Fitting the Best Models and Predicting"
   ]
  },
  {
   "cell_type": "code",
   "execution_count": 65,
   "metadata": {
    "_uuid": "089450c4ec82474d0398e512607f1c96ca6254c9"
   },
   "outputs": [],
   "source": [
    "def best_estimator(classifiers, X_train, y_train):\n",
    "    \"\"\"\n",
    "    Function that uses Randomized Search CV or GridSearch to fine tune hyper parameters\n",
    "    \n",
    "    Arguments:\n",
    "    \n",
    "    classifiers: list of Dictionary of classifiers\n",
    "    X_train: Training set X values\n",
    "    y_train: Training set y values\n",
    "         \n",
    "    Returns:\n",
    "    \n",
    "    best_estimators: Dictionary of model estimator objects with best tuned hyper parameters    \n",
    "    \n",
    "    \"\"\"\n",
    "    \n",
    "    fbeta = make_scorer(fbeta_score, beta= 0.5)\n",
    "    \n",
    "    scoring = {'prec_macro': 'precision_macro',\n",
    "               'rec_micro': 'recall_micro',\n",
    "               'acc': 'accuracy',\n",
    "               'AUC': 'roc_auc',\n",
    "              'fbeta_score': fbeta}\n",
    "    best_estimators = dict()\n",
    "    best_scores = dict()\n",
    "    \n",
    "      \n",
    "    for c in classifiers:\n",
    "            classifier = c['model']\n",
    "            label = c['label']\n",
    "            print('%s Best Values' % (c['label']))\n",
    "            grid_search = GridSearchCV(estimator = classifier,\n",
    "                       param_grid = c['parameters'],\n",
    "                       scoring = scoring,\n",
    "                       refit='prec_macro',\n",
    "                       cv = c['g_cv'],\n",
    "                       return_train_score=True,\n",
    "                       verbose =1)\n",
    "\n",
    "            grid_search.fit(X_train, y_train)\n",
    "            results = grid_search.cv_results_\n",
    "            print('\\n')\n",
    "            print('Best Precision Score: ',round(grid_search.best_score_*100,2),'%')\n",
    "            print('Parameters: ',grid_search.best_params_)\n",
    "\n",
    "            best_estimators[label] = grid_search.best_estimator_\n",
    "            best_scores[label] = round(grid_search.best_score_*100,2)\n",
    "            print('%s Optimized scores', label)\n",
    "            print('---------------------------------------')\n",
    "            print('\\n')\n",
    "            for key,scorer in scoring.items():\n",
    "                print('{} scores:\\n '.format(scorer))\n",
    "                #print(results.keys())\n",
    "                for sample in ('train','test'):\n",
    "                    sample_score_mean = round(results['mean_%s_%s' % (sample, key)].mean()*100,2)\n",
    "                    sample_score_std = round(results['std_%s_%s' % (sample, key)].mean()*100,2)\n",
    "                    if(sample == 'train'):\n",
    "                        to_print = 'Training'\n",
    "                    else:\n",
    "                        to_print = 'Validation'\n",
    "                    print(to_print,' ',scorer,' : ',sample_score_mean, '% (+/-)', sample_score_std,'%')\n",
    "                print('\\n')\n",
    "\n",
    "            print('=========================================')\n",
    "                    \n",
    "    print('Comparing the best score between Classifiers\\n')\n",
    "    print('\\t'.join(['{0}: {1} % \\n'.format(k, v) for k,v in best_scores.items()]))\n",
    "    return best_estimators"
   ]
  },
  {
   "cell_type": "code",
   "execution_count": 25,
   "metadata": {
    "_uuid": "8c7a8d0c82c94a9a27ba4ca6ed36ec2d34348349"
   },
   "outputs": [
    {
     "name": "stdout",
     "output_type": "stream",
     "text": [
      "Logistic Regression Classifier Best Values\n",
      "Fitting 10 folds for each of 10 candidates, totalling 100 fits\n"
     ]
    },
    {
     "name": "stderr",
     "output_type": "stream",
     "text": [
      "[Parallel(n_jobs=1)]: Using backend SequentialBackend with 1 concurrent workers.\n",
      "[Parallel(n_jobs=1)]: Done 100 out of 100 | elapsed:    0.9s finished\n",
      "[Parallel(n_jobs=1)]: Using backend SequentialBackend with 1 concurrent workers.\n"
     ]
    },
    {
     "name": "stdout",
     "output_type": "stream",
     "text": [
      "\n",
      "\n",
      "Best Precision Score:  94.0 %\n",
      "Parameters:  {'C': 0.1, 'penalty': 'l1'}\n",
      "%s Optimized scores Logistic Regression Classifier\n",
      "---------------------------------------\n",
      "\n",
      "\n",
      "precision_macro scores:\n",
      " \n",
      "Training   precision_macro  :  94.44 % (+/-) 0.34 %\n",
      "Validation   precision_macro  :  93.17 % (+/-) 1.84 %\n",
      "\n",
      "\n",
      "recall_micro scores:\n",
      " \n",
      "Training   recall_micro  :  94.34 % (+/-) 0.34 %\n",
      "Validation   recall_micro  :  92.99 % (+/-) 1.88 %\n",
      "\n",
      "\n",
      "accuracy scores:\n",
      " \n",
      "Training   accuracy  :  94.34 % (+/-) 0.34 %\n",
      "Validation   accuracy  :  92.99 % (+/-) 1.88 %\n",
      "\n",
      "\n",
      "roc_auc scores:\n",
      " \n",
      "Training   roc_auc  :  98.38 % (+/-) 0.11 %\n",
      "Validation   roc_auc  :  97.28 % (+/-) 1.17 %\n",
      "\n",
      "\n",
      "make_scorer(fbeta_score, beta=0.5) scores:\n",
      " \n",
      "Training   make_scorer(fbeta_score, beta=0.5)  :  95.51 % (+/-) 0.37 %\n",
      "Validation   make_scorer(fbeta_score, beta=0.5)  :  93.96 % (+/-) 1.99 %\n",
      "\n",
      "\n",
      "=========================================\n",
      "Support Vector Classifier Best Values\n",
      "Fitting 10 folds for each of 16 candidates, totalling 160 fits\n"
     ]
    },
    {
     "name": "stderr",
     "output_type": "stream",
     "text": [
      "[Parallel(n_jobs=1)]: Done 160 out of 160 | elapsed:    6.4s finished\n",
      "[Parallel(n_jobs=1)]: Using backend SequentialBackend with 1 concurrent workers.\n"
     ]
    },
    {
     "name": "stdout",
     "output_type": "stream",
     "text": [
      "\n",
      "\n",
      "Best Precision Score:  93.94 %\n",
      "Parameters:  {'C': 0.7, 'kernel': 'poly'}\n",
      "%s Optimized scores Support Vector Classifier\n",
      "---------------------------------------\n",
      "\n",
      "\n",
      "precision_macro scores:\n",
      " \n",
      "Training   precision_macro  :  91.58 % (+/-) 0.39 %\n",
      "Validation   precision_macro  :  89.68 % (+/-) 2.5 %\n",
      "\n",
      "\n",
      "recall_micro scores:\n",
      " \n",
      "Training   recall_micro  :  91.54 % (+/-) 0.39 %\n",
      "Validation   recall_micro  :  89.46 % (+/-) 2.57 %\n",
      "\n",
      "\n",
      "accuracy scores:\n",
      " \n",
      "Training   accuracy  :  91.54 % (+/-) 0.39 %\n",
      "Validation   accuracy  :  89.46 % (+/-) 2.57 %\n",
      "\n",
      "\n",
      "roc_auc scores:\n",
      " \n",
      "Training   roc_auc  :  96.48 % (+/-) 0.21 %\n",
      "Validation   roc_auc  :  95.39 % (+/-) 1.88 %\n",
      "\n",
      "\n",
      "make_scorer(fbeta_score, beta=0.5) scores:\n",
      " \n",
      "Training   make_scorer(fbeta_score, beta=0.5)  :  92.91 % (+/-) 0.39 %\n",
      "Validation   make_scorer(fbeta_score, beta=0.5)  :  90.64 % (+/-) 2.37 %\n",
      "\n",
      "\n",
      "=========================================\n",
      "K-Nearest Neighbor Best Values\n",
      "Fitting 10 folds for each of 12 candidates, totalling 120 fits\n"
     ]
    },
    {
     "name": "stderr",
     "output_type": "stream",
     "text": [
      "[Parallel(n_jobs=1)]: Done 120 out of 120 | elapsed:   16.5s finished\n",
      "[Parallel(n_jobs=1)]: Using backend SequentialBackend with 1 concurrent workers.\n"
     ]
    },
    {
     "name": "stdout",
     "output_type": "stream",
     "text": [
      "\n",
      "\n",
      "Best Precision Score:  93.78 %\n",
      "Parameters:  {'algorithm': 'auto', 'n_neighbors': 3}\n",
      "%s Optimized scores K-Nearest Neighbor\n",
      "---------------------------------------\n",
      "\n",
      "\n",
      "precision_macro scores:\n",
      " \n",
      "Training   precision_macro  :  95.25 % (+/-) 0.28 %\n",
      "Validation   precision_macro  :  93.47 % (+/-) 1.66 %\n",
      "\n",
      "\n",
      "recall_micro scores:\n",
      " \n",
      "Training   recall_micro  :  95.06 % (+/-) 0.31 %\n",
      "Validation   recall_micro  :  93.04 % (+/-) 1.9 %\n",
      "\n",
      "\n",
      "accuracy scores:\n",
      " \n",
      "Training   accuracy  :  95.06 % (+/-) 0.31 %\n",
      "Validation   accuracy  :  93.04 % (+/-) 1.9 %\n",
      "\n",
      "\n",
      "roc_auc scores:\n",
      " \n",
      "Training   roc_auc  :  99.55 % (+/-) 0.05 %\n",
      "Validation   roc_auc  :  96.07 % (+/-) 1.81 %\n",
      "\n",
      "\n",
      "make_scorer(fbeta_score, beta=0.5) scores:\n",
      " \n",
      "Training   make_scorer(fbeta_score, beta=0.5)  :  97.3 % (+/-) 0.22 %\n",
      "Validation   make_scorer(fbeta_score, beta=0.5)  :  95.79 % (+/-) 1.54 %\n",
      "\n",
      "\n",
      "=========================================\n",
      "Decision Tree Classifier Best Values\n",
      "Fitting 10 folds for each of 8 candidates, totalling 80 fits\n"
     ]
    },
    {
     "name": "stderr",
     "output_type": "stream",
     "text": [
      "[Parallel(n_jobs=1)]: Done  80 out of  80 | elapsed:    0.8s finished\n",
      "[Parallel(n_jobs=1)]: Using backend SequentialBackend with 1 concurrent workers.\n"
     ]
    },
    {
     "name": "stdout",
     "output_type": "stream",
     "text": [
      "\n",
      "\n",
      "Best Precision Score:  92.61 %\n",
      "Parameters:  {'criterion': 'gini', 'max_depth': 3, 'min_samples_leaf': 5}\n",
      "%s Optimized scores Decision Tree Classifier\n",
      "---------------------------------------\n",
      "\n",
      "\n",
      "precision_macro scores:\n",
      " \n",
      "Training   precision_macro  :  92.96 % (+/-) 0.36 %\n",
      "Validation   precision_macro  :  91.65 % (+/-) 2.37 %\n",
      "\n",
      "\n",
      "recall_micro scores:\n",
      " \n",
      "Training   recall_micro  :  92.49 % (+/-) 0.44 %\n",
      "Validation   recall_micro  :  90.97 % (+/-) 2.8 %\n",
      "\n",
      "\n",
      "accuracy scores:\n",
      " \n",
      "Training   accuracy  :  92.49 % (+/-) 0.44 %\n",
      "Validation   accuracy  :  90.97 % (+/-) 2.8 %\n",
      "\n",
      "\n",
      "roc_auc scores:\n",
      " \n",
      "Training   roc_auc  :  96.18 % (+/-) 0.34 %\n",
      "Validation   roc_auc  :  94.48 % (+/-) 1.89 %\n",
      "\n",
      "\n",
      "make_scorer(fbeta_score, beta=0.5) scores:\n",
      " \n",
      "Training   make_scorer(fbeta_score, beta=0.5)  :  95.15 % (+/-) 0.62 %\n",
      "Validation   make_scorer(fbeta_score, beta=0.5)  :  93.72 % (+/-) 2.34 %\n",
      "\n",
      "\n",
      "=========================================\n",
      "XGBoost Classifier Best Values\n",
      "Fitting 2 folds for each of 54 candidates, totalling 108 fits\n"
     ]
    },
    {
     "name": "stderr",
     "output_type": "stream",
     "text": [
      "[Parallel(n_jobs=1)]: Done 108 out of 108 | elapsed:   30.3s finished\n"
     ]
    },
    {
     "name": "stdout",
     "output_type": "stream",
     "text": [
      "\n",
      "\n",
      "Best Precision Score:  94.26 %\n",
      "Parameters:  {'colsample_bytree': 0.6, 'gamma': 0.5, 'learning_rate': 0.01, 'max_depth': 2, 'n_estimators': 500, 'subsample': 0.8}\n",
      "%s Optimized scores XGBoost Classifier\n",
      "---------------------------------------\n",
      "\n",
      "\n",
      "precision_macro scores:\n",
      " \n",
      "Training   precision_macro  :  95.96 % (+/-) 0.23 %\n",
      "Validation   precision_macro  :  93.3 % (+/-) 0.44 %\n",
      "\n",
      "\n",
      "recall_micro scores:\n",
      " \n",
      "Training   recall_micro  :  95.83 % (+/-) 0.25 %\n",
      "Validation   recall_micro  :  92.94 % (+/-) 0.44 %\n",
      "\n",
      "\n",
      "accuracy scores:\n",
      " \n",
      "Training   accuracy  :  95.83 % (+/-) 0.25 %\n",
      "Validation   accuracy  :  92.94 % (+/-) 0.44 %\n",
      "\n",
      "\n",
      "roc_auc scores:\n",
      " \n",
      "Training   roc_auc  :  99.36 % (+/-) 0.14 %\n",
      "Validation   roc_auc  :  97.1 % (+/-) 0.48 %\n",
      "\n",
      "\n",
      "make_scorer(fbeta_score, beta=0.5) scores:\n",
      " \n",
      "Training   make_scorer(fbeta_score, beta=0.5)  :  97.74 % (+/-) 0.25 %\n",
      "Validation   make_scorer(fbeta_score, beta=0.5)  :  95.88 % (+/-) 0.46 %\n",
      "\n",
      "\n",
      "=========================================\n",
      "Comparing the best score between Classifiers\n",
      "\n",
      "Logistic Regression Classifier: 94.0 % \n",
      "\tSupport Vector Classifier: 93.94 % \n",
      "\tK-Nearest Neighbor: 93.78 % \n",
      "\tDecision Tree Classifier: 92.61 % \n",
      "\tXGBoost Classifier: 94.26 % \n",
      "\n"
     ]
    }
   ],
   "source": [
    "# Find the best hyper parameters using GridSearchCV method ofr undersampled data\n",
    "best_estimators = best_estimator(classifiers, X_train_us, y_train_us)        "
   ]
  },
  {
   "cell_type": "markdown",
   "metadata": {},
   "source": [
    "In this application, we are comparing Classifiers and optimizing the hyper parameters based on the Precision Score. \n",
    "\n",
    "For the hyper parameter tuned, optimized classifiers, the best Precision scores for the undersampled data was presented by XGBoost Classifier, followed by Logistics Regression Classifier."
   ]
  },
  {
   "cell_type": "markdown",
   "metadata": {},
   "source": [
    "## Evaluating the Models"
   ]
  },
  {
   "cell_type": "markdown",
   "metadata": {},
   "source": [
    "#### Precision-Recall Curve"
   ]
  },
  {
   "cell_type": "code",
   "execution_count": 26,
   "metadata": {
    "_uuid": "68735fdc29c0161a0b924f46eab1641bc31a95dc"
   },
   "outputs": [],
   "source": [
    "def prec_recall_curves(classifiers, best_estimators, X_test, y_test):\n",
    "    \"\"\"Helper function to plot Precision-Recall Curve\n",
    "    \n",
    "    Arguments:\n",
    "    \n",
    "    classifiers: list of Dictionary of classifiers\n",
    "    best_estimators: Dictionary of estimator objects with best tuned parameters\n",
    "    X_test: Test set X values\n",
    "    y_test: Test set y_values\n",
    "    \n",
    "   \"\"\"\n",
    "    \n",
    "    color=iter(cm.rainbow(np.linspace(0,15,100)))\n",
    "    for key, model in best_estimators.items():\n",
    "        if hasattr(model, \"decision_function\"):\n",
    "            y_pred = model.decision_function(X_test)\n",
    "        else:\n",
    "            y_pred = model.predict_proba(X_test)[:, 1]\n",
    "        \n",
    "        # Generate the precision-recall curve for the classifier:\n",
    "        precision, recall, thresholds = precision_recall_curve(y_test, y_pred.round())\n",
    "        \n",
    "        # Average precision\n",
    "        average_precision = round(average_precision_score(y_test, y_pred),2)\n",
    "        \n",
    "        # Calculate Area under the curve to display on the plot\n",
    "        # In matplotlib < 1.5, plt.fill_between does not have a 'step' argument\n",
    "        step_kwargs = ({'step': 'post'}\n",
    "                       if 'step' in signature(plt.fill_between).parameters\n",
    "                       else {})\n",
    "        c=next(color)\n",
    "        plt.step(recall, precision, color=c, alpha=0.2,\n",
    "                 where='post', label='%s AP (area = %0.2f) ' % (model.__class__.__name__, average_precision))\n",
    "        \n",
    "    plt.xlabel('Recall')\n",
    "    plt.ylabel('Precision')\n",
    "    plt.ylim([0.0, 1.05])\n",
    "    plt.xlim([0.0, 1.0])\n",
    "    plt.legend(loc = 'best')\n",
    "    plt.title('Precision-Recall curve')\n",
    "    plt.show()"
   ]
  },
  {
   "cell_type": "code",
   "execution_count": 27,
   "metadata": {
    "_uuid": "f38cb4b841fee4779405ddc9933ae257fa87629c",
    "scrolled": true
   },
   "outputs": [
    {
     "data": {
      "image/png": "[encoded data removed]",
      "text/plain": [
       "<Figure size 432x288 with 1 Axes>"
      ]
     },
     "metadata": {
      "needs_background": "light"
     },
     "output_type": "display_data"
    }
   ],
   "source": [
    "# Plot Precision-Recall curves\n",
    "prec_recall_curves(classifiers, best_estimators, X_test_us, y_test_us)"
   ]
  },
  {
   "cell_type": "markdown",
   "metadata": {},
   "source": [
    "However, for us both precision and recall is important. On that front, as we compare Precision Vs Recall, again Logistic Regression and XGBoost Classifier has the highest Area under Curve (AUC) for Precision Recall, closely followed by Support Vector Classifier."
   ]
  },
  {
   "cell_type": "markdown",
   "metadata": {},
   "source": [
    "#### Receiver Operating Characteristic Curve"
   ]
  },
  {
   "cell_type": "code",
   "execution_count": 28,
   "metadata": {
    "_uuid": "043d758d72f0127305eaf3d6b9766cfbdfedfbc7"
   },
   "outputs": [],
   "source": [
    "def roc_curves(classifiers, best_estimators, X_test, y_test):\n",
    "    \"\"\"\n",
    "    Helper function to plot the ROC Curve\n",
    "    \n",
    "    Arguments:\n",
    "    \n",
    "    classifiers: list of Dictionary of classifiers\n",
    "    best_estimators: Dictionary of estimator objects with best tuned parameters\n",
    "    X_test: Test set X values\n",
    "    y_test: Test set y_values\n",
    "    \n",
    "    \"\"\"\n",
    "    \n",
    "    color=iter(cm.rainbow(np.linspace(0,15,100)))\n",
    "    for key, model in best_estimators.items():\n",
    "        y_pred = model.predict(X_test) # predict the test data\n",
    "        # Compute False postive rate, and True positive rate\n",
    "        if hasattr(model, \"decision_function\"):\n",
    "            y_pred = model.decision_function(X_test)\n",
    "        else:\n",
    "            y_pred = model.predict_proba(X_test)[:, 1]\n",
    "        fpr, tpr, thresholds = roc_curve(y_test, y_pred)\n",
    "        # Calculate Area under the curve to display on the plot\n",
    "        auc = roc_auc_score(y_test,y_pred)\n",
    "        # Now, plot the computed values\n",
    "        plt.plot(fpr, tpr, label='%s ROC (area = %0.2f)' % (model.__class__.__name__, auc))\n",
    "    \n",
    "    # Custom settings for the plot \n",
    "    plt.plot([0, 1], [0, 1],'r--')\n",
    "    plt.xlim([0.0, 1.0])\n",
    "    plt.ylim([0.0, 1.05])\n",
    "    plt.xlabel('1-Specificity(False Positive Rate)')\n",
    "    plt.ylabel('Sensitivity(True Positive Rate)')\n",
    "    plt.title('Receiver Operating Characteristic')\n",
    "    plt.legend(loc=\"lower right\")\n",
    "    plt.show()               "
   ]
  },
  {
   "cell_type": "code",
   "execution_count": 29,
   "metadata": {
    "_uuid": "4d18146af05ed82402aa63fe04a3a5551f83c18c",
    "scrolled": true
   },
   "outputs": [
    {
     "data": {
      "image/png": "[encoded data removed]",
      "text/plain": [
       "<Figure size 432x288 with 1 Axes>"
      ]
     },
     "metadata": {
      "needs_background": "light"
     },
     "output_type": "display_data"
    }
   ],
   "source": [
    "#  Plot ROC curves\n",
    "roc_curves(classifiers, best_estimators, X_test_us, y_test_us)"
   ]
  },
  {
   "cell_type": "markdown",
   "metadata": {},
   "source": [
    "##### Receiver Operating Characteristic (ROC Curve) helps understand how well a model can separate two classes. \n",
    "\n",
    "It is plotted with True Positive Rate on y-axis Vs False Positive Rate on X-axisThe Area under Curve is a measure of separability. Higher the area, better the ROC. \n",
    "\n",
    "As per the results, again Logistic Regression has the best AUC ROC score of 99%, followed by XGBoost Classifier and SVC."
   ]
  },
  {
   "cell_type": "markdown",
   "metadata": {},
   "source": [
    "### Analysis of Results on the Undersampled Data"
   ]
  },
  {
   "cell_type": "markdown",
   "metadata": {
    "collapsed": true
   },
   "source": [
    "Comparing the final scores, XGBClassifier and Logistic Clasifier were the best two out of the rest. But the main point to note is that the results have greatly improved from original dataset and there is no more overfitting because of imbalanced data. "
   ]
  },
  {
   "cell_type": "markdown",
   "metadata": {
    "_uuid": "923e9830afc9e2b047d369a36eb470e98771aa3c"
   },
   "source": [
    "## SMOTE - Oversampling Technique"
   ]
  },
  {
   "cell_type": "code",
   "execution_count": 32,
   "metadata": {
    "_uuid": "1089763e816c6428dfcef6a17fe3decd97625541",
    "scrolled": true
   },
   "outputs": [],
   "source": [
    "# Scripts for installing imblearn\n",
    "# !python -m pip install -U imbalanced-learn\n",
    "# !conda install -c glemaitre imbalanced-learn"
   ]
  },
  {
   "cell_type": "code",
   "execution_count": 33,
   "metadata": {
    "_uuid": "cd7addb0ee0dbfc23cb656f3356d9710b0a4bfb9"
   },
   "outputs": [
    {
     "name": "stderr",
     "output_type": "stream",
     "text": [
      "Using TensorFlow backend.\n"
     ]
    }
   ],
   "source": [
    "# Importing required library for oversampling\n",
    "from imblearn.over_sampling import SMOTE"
   ]
  },
  {
   "cell_type": "code",
   "execution_count": 34,
   "metadata": {
    "_uuid": "fa6df0dc5f24935d21dc4d453b1c831f250dee77"
   },
   "outputs": [],
   "source": [
    "# Creating X and y values using SMOTE Oversampling technique\n",
    "X_os, y_os = SMOTE().fit_sample(X_org,y_org.values.ravel())"
   ]
  },
  {
   "cell_type": "code",
   "execution_count": 35,
   "metadata": {
    "_uuid": "5bb7f7cc40ca6e7241f6aece8cffe66c379bfc9c"
   },
   "outputs": [],
   "source": [
    "# Converting into dataframe\n",
    "X_os = pd.DataFrame(X_os)\n",
    "y_os = pd.DataFrame(y_os)"
   ]
  },
  {
   "cell_type": "markdown",
   "metadata": {
    "_uuid": "a49c29210888df5383641da2d0b1560e58823bba"
   },
   "source": [
    "#### Data-preprocessing on the oversampled data"
   ]
  },
  {
   "cell_type": "code",
   "execution_count": 36,
   "metadata": {
    "_uuid": "43210d4c329c1c078a6e5053e8d0d1554e3b4145"
   },
   "outputs": [],
   "source": [
    "# Splitting into training and test set\n",
    "X_train_os, X_test_os, y_train_os, y_test_os = train_test_split(X_os, y_os, test_size = 0.25, random_state = 123)"
   ]
  },
  {
   "cell_type": "markdown",
   "metadata": {},
   "source": [
    "#### Fitting & Predicting the Model on train and test set"
   ]
  },
  {
   "cell_type": "code",
   "execution_count": 37,
   "metadata": {},
   "outputs": [
    {
     "name": "stdout",
     "output_type": "stream",
     "text": [
      "Validation Scores:\n",
      "\n",
      "Logistic Regression Classifier scores\n",
      "\n",
      "\n",
      "Precision:\n",
      "Training score:  91.63 % \t Testing score:  91.53 %\n",
      "Recall:\n",
      "Training score:  97.37 % \t Testing score:  97.34 %\n",
      "F1 Score:\n",
      "Training score:  94.41 % \t Testing score:  94.34 %\n",
      "Accuracy:\n",
      "Training score:  94.58 % \t Testing score:  94.5 %\n",
      "==========================================\n",
      "\n",
      "\n",
      "Support Vector Classifier scores\n",
      "\n",
      "\n",
      "Precision:\n",
      "Training score:  99.93 % \t Testing score:  99.93 %\n",
      "Recall:\n",
      "Training score:  99.78 % \t Testing score:  99.74 %\n",
      "F1 Score:\n",
      "Training score:  99.85 % \t Testing score:  99.84 %\n",
      "Accuracy:\n",
      "Training score:  99.85 % \t Testing score:  99.84 %\n",
      "==========================================\n",
      "\n",
      "\n",
      "K-Nearest Neighbor scores\n",
      "\n",
      "\n",
      "Precision:\n",
      "Training score:  100.0 % \t Testing score:  100.0 %\n",
      "Recall:\n",
      "Training score:  99.86 % \t Testing score:  99.81 %\n",
      "F1 Score:\n",
      "Training score:  99.93 % \t Testing score:  99.9 %\n",
      "Accuracy:\n",
      "Training score:  99.93 % \t Testing score:  99.9 %\n",
      "==========================================\n",
      "\n",
      "\n",
      "Decision Tree Classifier scores\n",
      "\n",
      "\n",
      "Precision:\n",
      "Training score:  100.0 % \t Testing score:  99.87 %\n",
      "Recall:\n",
      "Training score:  100.0 % \t Testing score:  99.74 %\n",
      "F1 Score:\n",
      "Training score:  100.0 % \t Testing score:  99.8 %\n",
      "Accuracy:\n",
      "Training score:  100.0 % \t Testing score:  99.8 %\n",
      "==========================================\n",
      "\n",
      "\n",
      "XGBoost Classifier scores\n",
      "\n",
      "\n",
      "Precision:\n",
      "Training score:  96.73 % \t Testing score:  96.64 %\n",
      "Recall:\n",
      "Training score:  98.82 % \t Testing score:  98.83 %\n",
      "F1 Score:\n",
      "Training score:  97.77 % \t Testing score:  97.72 %\n",
      "Accuracy:\n",
      "Training score:  97.79 % \t Testing score:  97.74 %\n",
      "==========================================\n",
      "\n",
      "\n"
     ]
    }
   ],
   "source": [
    "# Fit & Predict\n",
    "predictions = simple_fit_predict(classifiers, X_train_os, X_test_os, y_train_os, y_test_os)"
   ]
  },
  {
   "cell_type": "code",
   "execution_count": 38,
   "metadata": {
    "_uuid": "1f385c8572676c00b9aaafd8627651b00873628a"
   },
   "outputs": [
    {
     "data": {
      "image/png": "[encoded data removed]",
      "text/plain": [
       "<Figure size 432x288 with 1 Axes>"
      ]
     },
     "metadata": {
      "needs_background": "light"
     },
     "output_type": "display_data"
    }
   ],
   "source": [
    "# Plotting Precision-Recall curves\n",
    "prec_recall_curves(classifiers, predictions, X_test_os, y_test_os)"
   ]
  },
  {
   "cell_type": "code",
   "execution_count": 39,
   "metadata": {
    "_uuid": "70fecdd09d0696e6e6df895bddc5f28b419d77da"
   },
   "outputs": [
    {
     "data": {
      "image/png": "[encoded data removed]",
      "text/plain": [
       "<Figure size 432x288 with 1 Axes>"
      ]
     },
     "metadata": {
      "needs_background": "light"
     },
     "output_type": "display_data"
    }
   ],
   "source": [
    "# Plotting ROC curves\n",
    "roc_curves(classifiers, predictions, X_test_os, y_test_os)"
   ]
  },
  {
   "cell_type": "markdown",
   "metadata": {},
   "source": [
    "#### Reporting"
   ]
  },
  {
   "cell_type": "code",
   "execution_count": 30,
   "metadata": {
    "_uuid": "ba578f567c9a3e7ead17a4d3783f21cbabfc742e"
   },
   "outputs": [],
   "source": [
    "def report(best_estimators, X_test, y_test):\n",
    "    \"\"\"Helper function to print Classification Report\n",
    "    \n",
    "    Arguments:\n",
    "    \n",
    "    best_estimators: Dictionary of estimator objects with best tuned parameters\n",
    "    X_test: Test set X values\n",
    "    y_test: Test set y_values\n",
    "    \n",
    "    \"\"\"\n",
    "    for key, model in best_estimators.items():\n",
    "        y_pred = model.predict(X_test) # predict the test data\n",
    "        print(model.__class__.__name__)\n",
    "        print('------------------------------------')\n",
    "        print(classification_report(y_test,y_pred, digits = 4))\n",
    "        print('====================================')\n",
    "        print('\\n')"
   ]
  },
  {
   "cell_type": "code",
   "execution_count": 40,
   "metadata": {
    "_uuid": "4822d50df395298747d06c6c57a9d4e678c20253",
    "scrolled": true
   },
   "outputs": [
    {
     "name": "stdout",
     "output_type": "stream",
     "text": [
      "LogisticRegression\n",
      "------------------------------------\n",
      "              precision    recall  f1-score   support\n",
      "\n",
      "           0     0.9198    0.9749    0.9465     70962\n",
      "           1     0.9734    0.9153    0.9434     71196\n",
      "\n",
      "    accuracy                         0.9450    142158\n",
      "   macro avg     0.9466    0.9451    0.9450    142158\n",
      "weighted avg     0.9466    0.9450    0.9450    142158\n",
      "\n",
      "====================================\n",
      "\n",
      "\n",
      "SVC\n",
      "------------------------------------\n",
      "              precision    recall  f1-score   support\n",
      "\n",
      "           0     0.9993    0.9974    0.9984     70962\n",
      "           1     0.9974    0.9993    0.9984     71196\n",
      "\n",
      "    accuracy                         0.9984    142158\n",
      "   macro avg     0.9984    0.9984    0.9984    142158\n",
      "weighted avg     0.9984    0.9984    0.9984    142158\n",
      "\n",
      "====================================\n",
      "\n",
      "\n",
      "KNeighborsClassifier\n",
      "------------------------------------\n",
      "              precision    recall  f1-score   support\n",
      "\n",
      "           0     1.0000    0.9980    0.9990     70962\n",
      "           1     0.9981    1.0000    0.9990     71196\n",
      "\n",
      "    accuracy                         0.9990    142158\n",
      "   macro avg     0.9990    0.9990    0.9990    142158\n",
      "weighted avg     0.9990    0.9990    0.9990    142158\n",
      "\n",
      "====================================\n",
      "\n",
      "\n",
      "DecisionTreeClassifier\n",
      "------------------------------------\n",
      "              precision    recall  f1-score   support\n",
      "\n",
      "           0     0.9987    0.9974    0.9980     70962\n",
      "           1     0.9974    0.9987    0.9980     71196\n",
      "\n",
      "    accuracy                         0.9980    142158\n",
      "   macro avg     0.9980    0.9980    0.9980    142158\n",
      "weighted avg     0.9980    0.9980    0.9980    142158\n",
      "\n",
      "====================================\n",
      "\n",
      "\n",
      "XGBClassifier\n",
      "------------------------------------\n",
      "              precision    recall  f1-score   support\n",
      "\n",
      "           0     0.9670    0.9886    0.9777     70962\n",
      "           1     0.9883    0.9664    0.9772     71196\n",
      "\n",
      "    accuracy                         0.9774    142158\n",
      "   macro avg     0.9777    0.9775    0.9774    142158\n",
      "weighted avg     0.9777    0.9774    0.9774    142158\n",
      "\n",
      "====================================\n",
      "\n",
      "\n"
     ]
    }
   ],
   "source": [
    "# Classification report\n",
    "report(predictions, X_test_os, y_test_os)"
   ]
  },
  {
   "cell_type": "markdown",
   "metadata": {},
   "source": [
    "### Analysis of Results on the OverSampled Data"
   ]
  },
  {
   "cell_type": "markdown",
   "metadata": {},
   "source": [
    "As you can see from the results, the oversampled data gave enough training to the machine that almost all the classifiers were able to predict excellently well, some close to 99.99%. And clearly there were no overfitting as there is not much difference between training and testing accuracy. "
   ]
  },
  {
   "cell_type": "markdown",
   "metadata": {
    "_uuid": "67483e0d106babbb9b052c3d6916110ce9ce8128"
   },
   "source": [
    "## Deep Learning - Artificial Neural Network"
   ]
  },
  {
   "cell_type": "code",
   "execution_count": 41,
   "metadata": {
    "_uuid": "19f402b9d0b4e9fdc0a9c0e56b7e1675c4601891"
   },
   "outputs": [],
   "source": [
    "# Importing libraries for Deep learning\n",
    "from keras.models import Sequential\n",
    "from keras.layers import Dense, Dropout\n",
    "from tensorflow.keras.callbacks import EarlyStopping, ReduceLROnPlateau, ModelCheckpoint, CSVLogger\n"
   ]
  },
  {
   "cell_type": "code",
   "execution_count": 42,
   "metadata": {
    "_uuid": "ee7bdf3cd24d858c41f5bc5c3cd23d45c496a775"
   },
   "outputs": [
    {
     "name": "stdout",
     "output_type": "stream",
     "text": [
      "WARNING:tensorflow:From C:\\Anaconda\\lib\\site-packages\\keras\\backend\\tensorflow_backend.py:74: The name tf.get_default_graph is deprecated. Please use tf.compat.v1.get_default_graph instead.\n",
      "\n",
      "WARNING:tensorflow:From C:\\Anaconda\\lib\\site-packages\\keras\\backend\\tensorflow_backend.py:517: The name tf.placeholder is deprecated. Please use tf.compat.v1.placeholder instead.\n",
      "\n",
      "WARNING:tensorflow:From C:\\Anaconda\\lib\\site-packages\\keras\\backend\\tensorflow_backend.py:4138: The name tf.random_uniform is deprecated. Please use tf.random.uniform instead.\n",
      "\n",
      "WARNING:tensorflow:From C:\\Anaconda\\lib\\site-packages\\keras\\backend\\tensorflow_backend.py:133: The name tf.placeholder_with_default is deprecated. Please use tf.compat.v1.placeholder_with_default instead.\n",
      "\n",
      "WARNING:tensorflow:From C:\\Anaconda\\lib\\site-packages\\keras\\backend\\tensorflow_backend.py:3445: calling dropout (from tensorflow.python.ops.nn_ops) with keep_prob is deprecated and will be removed in a future version.\n",
      "Instructions for updating:\n",
      "Please use `rate` instead of `keep_prob`. Rate should be set to `rate = 1 - keep_prob`.\n"
     ]
    }
   ],
   "source": [
    "# Building the ANN model\n",
    "model = Sequential([\n",
    "    Dense(units=16, input_dim = 29,activation='relu'),\n",
    "    Dense(units=24,activation='relu'),\n",
    "    Dropout(0.5),\n",
    "    Dense(20,activation='relu'),\n",
    "    Dense(24,activation='relu'),\n",
    "    Dense(1,activation='sigmoid'),\n",
    "])"
   ]
  },
  {
   "cell_type": "code",
   "execution_count": 60,
   "metadata": {
    "_uuid": "0e0871ee76a4f0da4854ebe304388ab0981cf9ef"
   },
   "outputs": [],
   "source": [
    "def ann(model, X_train, X_test, y_train, y_test, data):\n",
    "    \"\"\" Function to fit, predict and evaluate the results\n",
    "    \n",
    "    Args:\n",
    "    \n",
    "    model: object of ANN model created\n",
    "    X_train: X values of train set\n",
    "    X_test: X values of test set\n",
    "    y_train: y values of train set\n",
    "    y_test: y values of test set\n",
    "    data: String to denote if its original/undersampled/oversampled\n",
    "      \n",
    "    \"\"\"\n",
    "    X_train = np.array(X_train)\n",
    "    X_test = np.array(X_test)\n",
    "    y_train = np.array(y_train)\n",
    "    y_test = np.array(y_test)\n",
    "    model.compile(optimizer='adam',loss='binary_crossentropy',metrics=['accuracy'])\n",
    "    model.fit(X_train,y_train,batch_size=15,epochs=5)\n",
    "    y_pred = model.predict(X_test)\n",
    "    y_pred = (y_pred > 0.5)\n",
    "    y_test = pd.DataFrame(y_test)\n",
    "    \n",
    "    # Making the Confusion Matrix\n",
    "    cm = confusion_matrix(y_test, y_pred)\n",
    "    \n",
    "    print(\"\\n\\nConfusion Matrix\\n\", cm)\n",
    "    print(\"\\n\\n\")\n",
    "    \n",
    " \n",
    "    precision, recall, thresholds = precision_recall_curve(y_test, y_pred.round())\n",
    "    average_precision = round(average_precision_score(y_test, y_pred),2)\n",
    "    step_kwargs = ({'step': 'post'}\n",
    "                       if 'step' in signature(plt.fill_between).parameters\n",
    "                       else {})\n",
    "    #c=next(color)\n",
    "    plt.step(recall, precision, color='b', alpha=0.2,\n",
    "                 where='post', label='%s AP (area = %0.2f) ' % ('ANN '+data, average_precision))\n",
    "        \n",
    "    plt.fill_between(recall, precision, alpha=0.2, color='b', **step_kwargs)   \n",
    "\n",
    "    plt.xlabel('Recall')\n",
    "    plt.ylabel('Precision')\n",
    "    plt.ylim([0.0, 1.05])\n",
    "    plt.xlim([0.0, 1.0])\n",
    "    plt.legend(loc = 'best')\n",
    "    plt.title('Precision-Recall curve')\n",
    "    print('Artificial Neural Network', data)\n",
    "    print('------------------------------------')\n",
    "    print(classification_report(y_test,y_pred, digits = 4))\n",
    "    print('====================================')\n",
    "    print('\\n')"
   ]
  },
  {
   "cell_type": "code",
   "execution_count": 61,
   "metadata": {},
   "outputs": [],
   "source": [
    "def classification_report_ann(y_pred, y_test,data):\n",
    "    print('Artificial Neural Network', data)\n",
    "    print('------------------------------------')\n",
    "    print(classification_report(y_test,y_pred, digits = 4))\n",
    "    print('====================================')\n",
    "    print('\\n')"
   ]
  },
  {
   "cell_type": "code",
   "execution_count": 62,
   "metadata": {
    "_uuid": "36268f0971a6d7690f55492f4145d116e0a9aec8"
   },
   "outputs": [
    {
     "name": "stdout",
     "output_type": "stream",
     "text": [
      "Epoch 1/5\n",
      "213605/213605 [==============================] - 26s 120us/step - loss: 0.0023 - acc: 0.9995\n",
      "Epoch 2/5\n",
      "213605/213605 [==============================] - 25s 116us/step - loss: 0.0025 - acc: 0.9995\n",
      "Epoch 3/5\n",
      "213605/213605 [==============================] - 25s 118us/step - loss: 0.0022 - acc: 0.9995\n",
      "Epoch 4/5\n",
      "213605/213605 [==============================] - 25s 117us/step - loss: 0.0023 - acc: 0.9995\n",
      "Epoch 5/5\n",
      "213605/213605 [==============================] - 25s 118us/step - loss: 0.0020 - acc: 0.9995\n",
      "\n",
      "\n",
      "Confusion Matrix\n",
      " [[71069    10]\n",
      " [   42    81]]\n",
      "\n",
      "\n",
      "\n",
      "Artificial Neural Network Original Data\n",
      "------------------------------------\n",
      "              precision    recall  f1-score   support\n",
      "\n",
      "           0     0.9994    0.9999    0.9996     71079\n",
      "           1     0.8901    0.6585    0.7570       123\n",
      "\n",
      "    accuracy                         0.9993     71202\n",
      "   macro avg     0.9448    0.8292    0.8783     71202\n",
      "weighted avg     0.9992    0.9993    0.9992     71202\n",
      "\n",
      "====================================\n",
      "\n",
      "\n"
     ]
    },
    {
     "data": {
      "image/png": "[encoded data removed]",
      "text/plain": [
       "<Figure size 432x288 with 1 Axes>"
      ]
     },
     "metadata": {
      "needs_background": "light"
     },
     "output_type": "display_data"
    }
   ],
   "source": [
    "# Artificial Neural Network on Original Data\n",
    "ann(model, X_train_org, X_test_org, y_train_org, y_test_org, 'Original Data' )"
   ]
  },
  {
   "cell_type": "markdown",
   "metadata": {},
   "source": [
    "#### Analysis of Results on the Original data"
   ]
  },
  {
   "cell_type": "markdown",
   "metadata": {},
   "source": [
    "ANN gives an ideal accuracy while training, but fails miserably on the test data, as shown by the precision-recall curve with an area of only 59%. This shows clear overfitting of the train data and it arised because of the imbalanced dataset."
   ]
  },
  {
   "cell_type": "markdown",
   "metadata": {
    "_uuid": "ef437f16d018dc18a63ef9d054296b4620677834"
   },
   "source": [
    "### ANN on the Under-Sampled Data"
   ]
  },
  {
   "cell_type": "code",
   "execution_count": 63,
   "metadata": {
    "_uuid": "7a5342a967a9a940390dfac3860ee148c9b7494b"
   },
   "outputs": [
    {
     "name": "stdout",
     "output_type": "stream",
     "text": [
      "Epoch 1/5\n",
      "738/738 [==============================] - 1s 2ms/step - loss: 0.6154 - acc: 0.9038\n",
      "Epoch 2/5\n",
      "738/738 [==============================] - 0s 147us/step - loss: 0.3801 - acc: 0.9336\n",
      "Epoch 3/5\n",
      "738/738 [==============================] - 0s 131us/step - loss: 0.1997 - acc: 0.9350\n",
      "Epoch 4/5\n",
      "738/738 [==============================] - 0s 124us/step - loss: 0.1790 - acc: 0.9444\n",
      "Epoch 5/5\n",
      "738/738 [==============================] - 0s 111us/step - loss: 0.1625 - acc: 0.9444\n",
      "\n",
      "\n",
      "Confusion Matrix\n",
      " [[135   0]\n",
      " [ 14  97]]\n",
      "\n",
      "\n",
      "\n",
      "Artificial Neural Network Under-Sampled Data\n",
      "------------------------------------\n",
      "              precision    recall  f1-score   support\n",
      "\n",
      "           0     0.9060    1.0000    0.9507       135\n",
      "           1     1.0000    0.8739    0.9327       111\n",
      "\n",
      "    accuracy                         0.9431       246\n",
      "   macro avg     0.9530    0.9369    0.9417       246\n",
      "weighted avg     0.9484    0.9431    0.9426       246\n",
      "\n",
      "====================================\n",
      "\n",
      "\n"
     ]
    },
    {
     "data": {
      "image/png": "[encoded data removed]",
      "text/plain": [
       "<Figure size 432x288 with 1 Axes>"
      ]
     },
     "metadata": {
      "needs_background": "light"
     },
     "output_type": "display_data"
    }
   ],
   "source": [
    "# Artificial Neural Network on Under-sampled Data\n",
    "ann(model, X_train_us, X_test_us, y_train_us, y_test_us, 'Under-Sampled Data')"
   ]
  },
  {
   "cell_type": "markdown",
   "metadata": {},
   "source": [
    "#### Analysis of Results on Undersampled Data"
   ]
  },
  {
   "cell_type": "markdown",
   "metadata": {},
   "source": [
    "The training performance looks much more realistic in this scenario and the precision-recall curve have much better AUC of 93% compared to 59% on the original data. This could still be improved if we had a larger training set, which we are going to see in the next section."
   ]
  },
  {
   "cell_type": "markdown",
   "metadata": {
    "_uuid": "62c239d0ac8c47da01d9a0f290b0a8207c117be5"
   },
   "source": [
    "### ANN on the Over-Sampled Data"
   ]
  },
  {
   "cell_type": "code",
   "execution_count": 64,
   "metadata": {
    "_uuid": "3882221527371f55e140350691581e5a4d75d44f"
   },
   "outputs": [
    {
     "name": "stdout",
     "output_type": "stream",
     "text": [
      "Epoch 1/5\n",
      "426472/426472 [==============================] - 50s 118us/step - loss: 0.0211 - acc: 0.9935\n",
      "Epoch 2/5\n",
      "426472/426472 [==============================] - 50s 118us/step - loss: 0.0088 - acc: 0.9981\n",
      "Epoch 3/5\n",
      "426472/426472 [==============================] - 51s 119us/step - loss: 0.0085 - acc: 0.9983\n",
      "Epoch 4/5\n",
      "426472/426472 [==============================] - 52s 121us/step - loss: 0.0074 - acc: 0.9985\n",
      "Epoch 5/5\n",
      "426472/426472 [==============================] - 50s 116us/step - loss: 0.0075 - acc: 0.9986\n",
      "\n",
      "\n",
      "Confusion Matrix\n",
      " [[70734   228]\n",
      " [    5 71191]]\n",
      "\n",
      "\n",
      "\n",
      "Artificial Neural Network Over-Sampled Data\n",
      "------------------------------------\n",
      "              precision    recall  f1-score   support\n",
      "\n",
      "           0     0.9999    0.9968    0.9984     70962\n",
      "           1     0.9968    0.9999    0.9984     71196\n",
      "\n",
      "    accuracy                         0.9984    142158\n",
      "   macro avg     0.9984    0.9984    0.9984    142158\n",
      "weighted avg     0.9984    0.9984    0.9984    142158\n",
      "\n",
      "====================================\n",
      "\n",
      "\n"
     ]
    },
    {
     "data": {
      "image/png": "[encoded data removed]",
      "text/plain": [
       "<Figure size 432x288 with 1 Axes>"
      ]
     },
     "metadata": {
      "needs_background": "light"
     },
     "output_type": "display_data"
    }
   ],
   "source": [
    "# Artificial Neural Network on Over-sampled Data\n",
    "ann(model, X_train_os, X_test_os, y_train_os, y_test_os, 'Over-Sampled Data' )"
   ]
  },
  {
   "cell_type": "markdown",
   "metadata": {},
   "source": [
    "#### Analysis of Results on the Oversampled Data"
   ]
  },
  {
   "cell_type": "markdown",
   "metadata": {},
   "source": [
    "With a large training set, the training as well as test performance has reached the best possible which is close to 100%."
   ]
  },
  {
   "cell_type": "markdown",
   "metadata": {},
   "source": [
    "## Overall Summary"
   ]
  },
  {
   "cell_type": "markdown",
   "metadata": {},
   "source": [
    "With an imbalanced dataset, there is a higher chance of overfitting. Hence performance of validation as well as test dataset has to be analyzed before concluding the performance of model. \n",
    "\n",
    "We can see that by using undersampling technique, the overfitting has greatly reduced and the performance has considerably improved.\n",
    "\n",
    "With oversampling, some of the studied models were able to achieve close to 100% accuracy and precision which has been highly reassuring that the sampling techniques has achieved its purpose. "
   ]
  },
  {
   "cell_type": "markdown",
   "metadata": {},
   "source": [
    "###### End of program"
   ]
  }
 ],
 "metadata": {
  "kernelspec": {
   "display_name": "Python 3",
   "language": "python",
   "name": "python3"
  },
  "language_info": {
   "codemirror_mode": {
    "name": "ipython",
    "version": 3
   },
   "file_extension": ".py",
   "mimetype": "text/x-python",
   "name": "python",
   "nbconvert_exporter": "python",
   "pygments_lexer": "ipython3",
   "version": "3.7.3"
  }
 },
 "nbformat": 4,
 "nbformat_minor": 1
}
